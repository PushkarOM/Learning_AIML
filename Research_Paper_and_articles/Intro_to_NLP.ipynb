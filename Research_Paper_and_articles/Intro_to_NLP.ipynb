{
 "cells": [
  {
   "cell_type": "markdown",
   "metadata": {},
   "source": [
    "## Natural Language Processing\n",
    "\n",
    "NLP begain in 1950s as an intersection to artifical inteligence and linguistics.\n",
    "\n",
    "Earry simplistic approaches for word for word translation of Russian to english Machine translation was defeated by homogrpahs, methphors.\n",
    "\n",
    "ex,\n",
    "\"The spirit is willing, but the flesh is weak\"\n",
    "\n",
    "\"The vodka is aggreeable, but the meat is spoliled\"\n",
    "\n",
    "---\n",
    "Chomsky's 1956 theretical analysis of language grammer lead to the creation of Bakus-Naur form BNF notation. It is used to specify a context free grammer and is commonly used to represent the programming language syntax.\n",
    "Chmosky also identified\n",
    "---\n",
    "\n",
    "\n"
   ]
  }
 ],
 "metadata": {
  "language_info": {
   "name": "python"
  }
 },
 "nbformat": 4,
 "nbformat_minor": 2
}
